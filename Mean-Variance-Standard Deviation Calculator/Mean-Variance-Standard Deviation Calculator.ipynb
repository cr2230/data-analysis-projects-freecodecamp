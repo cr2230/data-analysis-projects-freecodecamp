{
 "cells": [
  {
   "cell_type": "markdown",
   "id": "695eeda0",
   "metadata": {},
   "source": [
    "# Mean-Variance-Standard Deviation Calculator\n",
    "\n",
    "This is the first project in freeCodeCamp's Data Analysis with Python Certificate. The original project was submitted on Replit and moved to Jupyter for increased readability and access.\n",
    "\n",
    "### Instructions\n",
    "Create a function named calculate() in mean_var_std.py that uses Numpy to output the mean, variance, standard deviation, max, min, and sum of the rows, columns, and elements in a 3 x 3 matrix.\n",
    "\n",
    "The input of the function should be a list containing 9 digits. The function should convert the list into a 3 x 3 Numpy array, and then return a dictionary containing the mean, variance, standard deviation, max, min, and sum along both axes and for the flattened matrix.\n",
    "\n",
    "If a list containing less than 9 elements is passed into the function, it should raise a ValueError exception with the message: \"List must contain nine numbers.\" The values in the returned dictionary should be lists and not Numpy arrays.\n",
    "\n",
    "The original project can be viewed [here](https://www.freecodecamp.org/learn/data-analysis-with-python/data-analysis-with-python-projects/mean-variance-standard-deviation-calculator)."
   ]
  },
  {
   "cell_type": "markdown",
   "id": "72d8c305",
   "metadata": {},
   "source": [
    "### Code"
   ]
  },
  {
   "cell_type": "code",
   "execution_count": 1,
   "id": "7186123f",
   "metadata": {},
   "outputs": [],
   "source": [
    "import numpy as np\n",
    "\n",
    "#creating  a function to calculate 3x3 array\n",
    "def calculate(list):\n",
    "    #raising an error for lists not equal to 9\n",
    "    if len(list) != 9:\n",
    "        raise ValueError('List must contain nine numbers.')\n",
    "    \n",
    "    #creating a 3x3 array from the list\n",
    "    ay = np.array(list).reshape([3,3])\n",
    "\n",
    "    #creating a dictionary for output\n",
    "    calculations = {\n",
    "        'mean': [ay.mean(0).tolist(), ay.mean(1).tolist(), ay.mean()],\n",
    "        'variance': [ay.var(0).tolist(), ay.var(1).tolist(), ay.var()],\n",
    "        'standard deviation': [ay.std(0).tolist(), ay.std(1).tolist(), ay.std()],\n",
    "        'max': [ay.max(0).tolist(), ay.max(1).tolist(), ay.max()],\n",
    "        'min': [ay.min(0).tolist(), ay.min(1).tolist(), ay.min()],\n",
    "        'sum': [ay.sum(0).tolist(), ay.sum(1).tolist(), ay.sum()],\n",
    "    }\n",
    "    \n",
    "    return calculations"
   ]
  },
  {
   "cell_type": "markdown",
   "id": "a74617b2",
   "metadata": {},
   "source": [
    "### Testing Output"
   ]
  },
  {
   "cell_type": "code",
   "execution_count": 2,
   "id": "cdc9ddbe",
   "metadata": {},
   "outputs": [],
   "source": [
    "lst_test = [0,1,2,3,4,5,6,7,8]"
   ]
  },
  {
   "cell_type": "code",
   "execution_count": 3,
   "id": "0282f187",
   "metadata": {},
   "outputs": [
    {
     "data": {
      "text/plain": [
       "{'mean': [[3.0, 4.0, 5.0], [1.0, 4.0, 7.0], 4.0],\n",
       " 'variance': [[6.0, 6.0, 6.0],\n",
       "  [0.6666666666666666, 0.6666666666666666, 0.6666666666666666],\n",
       "  6.666666666666667],\n",
       " 'standard deviation': [[2.449489742783178,\n",
       "   2.449489742783178,\n",
       "   2.449489742783178],\n",
       "  [0.816496580927726, 0.816496580927726, 0.816496580927726],\n",
       "  2.581988897471611],\n",
       " 'max': [[6, 7, 8], [2, 5, 8], 8],\n",
       " 'min': [[0, 1, 2], [0, 3, 6], 0],\n",
       " 'sum': [[9, 12, 15], [3, 12, 21], 36]}"
      ]
     },
     "execution_count": 3,
     "metadata": {},
     "output_type": "execute_result"
    }
   ],
   "source": [
    "calculate(lst_test)"
   ]
  },
  {
   "cell_type": "code",
   "execution_count": null,
   "id": "2e6d7799",
   "metadata": {},
   "outputs": [],
   "source": []
  }
 ],
 "metadata": {
  "kernelspec": {
   "display_name": "Python 3 (ipykernel)",
   "language": "python",
   "name": "python3"
  },
  "language_info": {
   "codemirror_mode": {
    "name": "ipython",
    "version": 3
   },
   "file_extension": ".py",
   "mimetype": "text/x-python",
   "name": "python",
   "nbconvert_exporter": "python",
   "pygments_lexer": "ipython3",
   "version": "3.9.13"
  }
 },
 "nbformat": 4,
 "nbformat_minor": 5
}
