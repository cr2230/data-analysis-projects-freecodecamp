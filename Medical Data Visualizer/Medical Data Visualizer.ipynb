{
 "cells": [
  {
   "cell_type": "markdown",
   "id": "b8decad8",
   "metadata": {},
   "source": [
    "# Medical Data Visualizer\n",
    "This is the third project in freeCodeCamp's Data Analysis with Python Certificate. The original project was submitted on Replit and moved to Jupyter for increased readability and access. The original project can be viewed [here](https://www.freecodecamp.org/learn/data-analysis-with-python/data-analysis-with-python-projects/medical-data-visualizer). "
   ]
  },
  {
   "cell_type": "markdown",
   "id": "eb479a28",
   "metadata": {},
   "source": [
    "### Instructions\n",
    "Create a chart similar to examples/Figure_1.png, where we show the counts of good and bad outcomes for the cholesterol, gluc, alco, active, and smoke variables for patients with cardio=1 and cardio=0 in different panels.\n",
    "\n",
    "Use the data to complete the following tasks in medical_data_visualizer.py:\n",
    "- Add an overweight column to the data. To determine if a person is overweight, first calculate their BMI by dividing their weight in kilograms by the square of their height in meters. If that value is > 25 then the person is overweight. Use the value 0 for NOT overweight and the value 1 for overweight.\n",
    "- Normalize the data by making 0 always good and 1 always bad. If the value of cholesterol or gluc is 1, make the value 0. If the value is more than 1, make the value 1.\n",
    "- Convert the data into long format and create a chart that shows the value counts of the categorical features using seaborn's catplot(). The dataset should be split by 'Cardio' so there is one chart for each cardio value. The chart should look like examples/Figure_1.png.\n",
    "- Clean the data. Filter out the following patient segments that represent incorrect data:\n",
    "    diastolic pressure is higher than systolic (Keep the correct data with (df['ap_lo'] <= df['ap_hi']))\n",
    "    height is less than the 2.5th percentile (Keep the correct data with (df['height'] >= df['height'].quantile(0.025)))\n",
    "    height is more than the 97.5th percentile\n",
    "    weight is less than the 2.5th percentile\n",
    "    weight is more than the 97.5th percentile\n",
    "- Create a correlation matrix using the dataset. Plot the correlation matrix using seaborn's heatmap(). Mask the upper triangle. The chart should look like examples/Figure_2.png."
   ]
  },
  {
   "cell_type": "code",
   "execution_count": null,
   "id": "e71c91a5",
   "metadata": {},
   "outputs": [],
   "source": []
  }
 ],
 "metadata": {
  "kernelspec": {
   "display_name": "Python 3 (ipykernel)",
   "language": "python",
   "name": "python3"
  },
  "language_info": {
   "codemirror_mode": {
    "name": "ipython",
    "version": 3
   },
   "file_extension": ".py",
   "mimetype": "text/x-python",
   "name": "python",
   "nbconvert_exporter": "python",
   "pygments_lexer": "ipython3",
   "version": "3.9.13"
  }
 },
 "nbformat": 4,
 "nbformat_minor": 5
}
